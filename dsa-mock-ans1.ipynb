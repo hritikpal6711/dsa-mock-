{
 "cells": [
  {
   "cell_type": "markdown",
   "id": "1203e55a",
   "metadata": {},
   "source": [
    "Given an integer array nums, move all 0's to the end of it while maintaining the relative order of the non-zero elements."
   ]
  },
  {
   "cell_type": "code",
   "execution_count": 6,
   "id": "9c9015cc",
   "metadata": {},
   "outputs": [],
   "source": [
    "def zeros(num:list):\n",
    "    i=0\n",
    "    j=0\n",
    "    while i<len(num):\n",
    "        if num[i]!=0:\n",
    "            num[i],num[j]=num[j],num[i]\n",
    "            \n",
    "            j+=1\n",
    "        i+=1\n",
    "    return num"
   ]
  },
  {
   "cell_type": "code",
   "execution_count": 7,
   "id": "2023bea1",
   "metadata": {},
   "outputs": [],
   "source": [
    "nums = [0,1,0,3,12]"
   ]
  },
  {
   "cell_type": "code",
   "execution_count": 8,
   "id": "043bec58",
   "metadata": {},
   "outputs": [
    {
     "data": {
      "text/plain": [
       "[1, 3, 12, 0, 0]"
      ]
     },
     "execution_count": 8,
     "metadata": {},
     "output_type": "execute_result"
    }
   ],
   "source": [
    "zeros(nums)"
   ]
  },
  {
   "cell_type": "code",
   "execution_count": null,
   "id": "0e9a3ccc",
   "metadata": {},
   "outputs": [],
   "source": []
  }
 ],
 "metadata": {
  "kernelspec": {
   "display_name": "Python 3 (ipykernel)",
   "language": "python",
   "name": "python3"
  },
  "language_info": {
   "codemirror_mode": {
    "name": "ipython",
    "version": 3
   },
   "file_extension": ".py",
   "mimetype": "text/x-python",
   "name": "python",
   "nbconvert_exporter": "python",
   "pygments_lexer": "ipython3",
   "version": "3.10.4"
  }
 },
 "nbformat": 4,
 "nbformat_minor": 5
}
