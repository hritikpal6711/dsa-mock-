{
  "nbformat": 4,
  "nbformat_minor": 0,
  "metadata": {
    "colab": {
      "provenance": []
    },
    "kernelspec": {
      "name": "python3",
      "display_name": "Python 3"
    },
    "language_info": {
      "name": "python"
    }
  },
  "cells": [
    {
      "cell_type": "code",
      "execution_count": 1,
      "metadata": {
        "id": "LpRSJv4PDIfv"
      },
      "outputs": [],
      "source": [
        "#Implement a queue using a list in Python. Include the necessary methods such as enqueue, dequeue, and isEmpty."
      ]
    },
    {
      "cell_type": "code",
      "source": [
        "class Queue:\n",
        "    def __init__(self):\n",
        "        self.queue = []\n",
        "\n",
        "    def enqueue(self, element):\n",
        "        self.queue.append(element)\n",
        "\n",
        "    def dequeue(self):\n",
        "        if self.isEmpty():\n",
        "            return None\n",
        "        return self.queue.pop(0)\n",
        "\n",
        "    def isEmpty(self):\n",
        "        return len(self.queue) == 0\n",
        "\n",
        "queue = Queue()\n",
        "queue.enqueue(1)\n",
        "queue.enqueue(2)\n",
        "queue.enqueue(3)\n",
        "print(queue.dequeue())  # Output: 1\n",
        "print(queue.dequeue())  # Output: 2\n",
        "print(queue.isEmpty())  # Output: False\n",
        "print(queue.dequeue())  # Output: 3\n",
        "print(queue.isEmpty())  # Output: True\n"
      ],
      "metadata": {
        "colab": {
          "base_uri": "https://localhost:8080/"
        },
        "id": "8jduVWyhDKQe",
        "outputId": "7bd19c48-86a5-44e3-e32e-12f5f523453f"
      },
      "execution_count": 2,
      "outputs": [
        {
          "output_type": "stream",
          "name": "stdout",
          "text": [
            "1\n",
            "2\n",
            "False\n",
            "3\n",
            "True\n"
          ]
        }
      ]
    },
    {
      "cell_type": "code",
      "source": [],
      "metadata": {
        "id": "F5C6iE1oDMb4"
      },
      "execution_count": 2,
      "outputs": []
    }
  ]
}