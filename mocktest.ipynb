{
  "nbformat": 4,
  "nbformat_minor": 0,
  "metadata": {
    "colab": {
      "provenance": []
    },
    "kernelspec": {
      "name": "python3",
      "display_name": "Python 3"
    },
    "language_info": {
      "name": "python"
    }
  },
  "cells": [
    {
      "cell_type": "code",
      "source": [
        "### 1. Write a function that takes a list of numbers as input and returns a new list containing only the even numbers from the input list. Use list comprehension to solve this problem."
      ],
      "metadata": {
        "id": "QSMLxXRDsjqF"
      },
      "execution_count": 5,
      "outputs": []
    },
    {
      "cell_type": "code",
      "source": [
        "def is_even(x:list):\n",
        "  return [i for i in x if i%2==0]"
      ],
      "metadata": {
        "id": "Xxzl2TMHrzvG"
      },
      "execution_count": 2,
      "outputs": []
    },
    {
      "cell_type": "code",
      "source": [
        "x=[1, 2, 3, 4, 5, 6, 7, 8, 9, 10]"
      ],
      "metadata": {
        "id": "yIJdmGT-sXsA"
      },
      "execution_count": 3,
      "outputs": []
    },
    {
      "cell_type": "code",
      "source": [
        "is_even(x)"
      ],
      "metadata": {
        "colab": {
          "base_uri": "https://localhost:8080/"
        },
        "id": "WVChX5pTseEz",
        "outputId": "ae12b34e-de16-4080-ada6-bfa880ff743d"
      },
      "execution_count": 4,
      "outputs": [
        {
          "output_type": "execute_result",
          "data": {
            "text/plain": [
              "[2, 4, 6, 8, 10]"
            ]
          },
          "metadata": {},
          "execution_count": 4
        }
      ]
    },
    {
      "cell_type": "code",
      "source": [
        "### 2.Implement a decorator function called ‘timer’ that measures the execution time of a function. The ‘timer’ decorator should print the time taken by the decorated function to execute. Use the ‘time’ module in Python to calculate the execution time."
      ],
      "metadata": {
        "id": "pIPVlQl_sgpj"
      },
      "execution_count": 7,
      "outputs": []
    },
    {
      "cell_type": "code",
      "source": [
        "import time\n",
        "\n",
        "def timer(func):\n",
        "    def wrapper(*args, **kwargs):\n",
        "        start_time = time.time()\n",
        "        result = func(*args, **kwargs)\n",
        "        end_time = time.time()\n",
        "        execution_time = end_time - start_time\n",
        "        print(f\"The function '{func.__name__}' took {execution_time:.6f} seconds to execute.\")\n",
        "        return result\n",
        "    return wrapper\n",
        "\n",
        "@timer\n",
        "def my_function():\n",
        "    # Code to be timed\n",
        "    time.sleep(2)  # Example code with delay\n",
        "\n",
        "my_function()\n"
      ],
      "metadata": {
        "colab": {
          "base_uri": "https://localhost:8080/"
        },
        "id": "WazYgREEtX4J",
        "outputId": "5516b359-dae3-4c37-b061-3d95d959fd30"
      },
      "execution_count": 8,
      "outputs": [
        {
          "output_type": "stream",
          "name": "stdout",
          "text": [
            "The function 'my_function' took 2.002085 seconds to execute.\n"
          ]
        }
      ]
    },
    {
      "cell_type": "code",
      "source": [
        "### 3.Write a function called ‘calculate_mean’ that takes a list of numbers as input and returns the mean (average) of the numbers.\n",
        " #The function should calculate the mean using the sum of the numbers divided by the total count.\n"
      ],
      "metadata": {
        "id": "2KxcCaNhtbg2"
      },
      "execution_count": 9,
      "outputs": []
    },
    {
      "cell_type": "code",
      "source": [
        "\n",
        "def calculate_mean(X):\n",
        "  Sum=sum(X)\n",
        "  length=len(X)\n",
        "  mean=Sum/length\n",
        "\n",
        "  return mean"
      ],
      "metadata": {
        "id": "klHZfd57ukJ6"
      },
      "execution_count": 20,
      "outputs": []
    },
    {
      "cell_type": "code",
      "source": [
        "X=[1,2]\n",
        "calculate_mean(X)"
      ],
      "metadata": {
        "colab": {
          "base_uri": "https://localhost:8080/"
        },
        "id": "6DBF7XNWwHgO",
        "outputId": "811d910b-bc47-4531-b53a-bcdeb8bd38ed"
      },
      "execution_count": 21,
      "outputs": [
        {
          "output_type": "execute_result",
          "data": {
            "text/plain": [
              "1.5"
            ]
          },
          "metadata": {},
          "execution_count": 21
        }
      ]
    },
    {
      "cell_type": "code",
      "source": [
        "### 4.Write a function called ‘perform_hypothesis_test’ that takes two lists of numbers as input, representing two samples. The function should perform a two-sample t-test and return the p-value. Use the ‘scipy.stats’ module in Python to calculate the t-test and p-value.\n"
      ],
      "metadata": {
        "id": "187-i701wMwC"
      },
      "execution_count": 22,
      "outputs": []
    },
    {
      "cell_type": "code",
      "source": [
        "from scipy import stats\n",
        "\n",
        "def perform_hypothesis_test(sample1, sample2):\n",
        "    t_statistic, p_value = stats.ttest_ind(sample1, sample2)\n",
        "    return p_value\n",
        "\n",
        "sample1 = [1, 2, 3, 4, 5]\n",
        "sample2 = [2, 4, 6, 8, 10]\n",
        "p_value = perform_hypothesis_test(sample1, sample2)\n",
        "print(p_value)\n"
      ],
      "metadata": {
        "colab": {
          "base_uri": "https://localhost:8080/"
        },
        "id": "eHbBtJRsyOvL",
        "outputId": "6f67a10c-0b14-4407-9800-3af50f3c6162"
      },
      "execution_count": 23,
      "outputs": [
        {
          "output_type": "stream",
          "name": "stdout",
          "text": [
            "0.09434977284243756\n"
          ]
        }
      ]
    },
    {
      "cell_type": "code",
      "source": [],
      "metadata": {
        "id": "AHn0DLNqyT2N"
      },
      "execution_count": null,
      "outputs": []
    }
  ]
}